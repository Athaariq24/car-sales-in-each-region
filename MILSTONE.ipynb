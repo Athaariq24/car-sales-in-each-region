{
 "cells": [
  {
   "cell_type": "markdown",
   "metadata": {},
   "source": [
    "# Link Perkenalan\n"
   ]
  },
  {
   "cell_type": "markdown",
   "metadata": {},
   "source": [
    "https://public.tableau.com/views/Milstone1Tablue/Dashboard1?:language=en-US&publish=yes&:display_count=n&:origin=viz_share_link"
   ]
  },
  {
   "cell_type": "markdown",
   "metadata": {},
   "source": [
    "# Perkenalan \n",
    "\n",
    "Nama : Muhammad Athaariq Ardi   \n",
    "Batch:HCK-013  "
   ]
  },
  {
   "cell_type": "markdown",
   "metadata": {},
   "source": [
    "# Identifikasi Masalah"
   ]
  },
  {
   "cell_type": "code",
   "execution_count": 1,
   "metadata": {},
   "outputs": [
    {
     "data": {
      "text/plain": [
       "'\\n=================================================\\nMilestone 1\\n\\nNama  : Muhammad Athaariq Ardi\\nBatch : HCK-013\\n\\nProgram ini dibuat untuk melakukan identifikasi masalah  menggunakan SMART dan penjabaran masalah.\\n=================================================\\n'"
      ]
     },
     "execution_count": 1,
     "metadata": {},
     "output_type": "execute_result"
    }
   ],
   "source": [
    "'''\n",
    "=================================================\n",
    "Milestone 1\n",
    "\n",
    "Nama  : Muhammad Athaariq Ardi\n",
    "Batch : HCK-013\n",
    "\n",
    "Program ini dibuat untuk melakukan identifikasi masalah  menggunakan SMART dan penjabaran masalah.\n",
    "=================================================\n",
    "'''"
   ]
  },
  {
   "cell_type": "markdown",
   "metadata": {},
   "source": [
    "S: Seorang pemilik showroom ingin membuka cabang di beberapa daerah di USA, sebelum itu diperlukan riset untuk mengetahui proses penjualan lancar atau tidak dan mobil yang banyak dibeli oleh costumer berdasarkan jenis type Body Style, Company dan Transmisi.\n",
    "\n",
    "M: Pada data analisis menggunakan Inventory Turnover, showroom pada umumnya memiliki rasio sebesar 12, yang artinya dalam 1 tahun, terjual 12 units\n",
    "\n",
    "A: Mencapai tujuan, yaitu dapat memenuhi rasio 12\n",
    "\n",
    "R: Ya karna \n",
    "\n",
    "T: Dialkukan dalam 3 tahun\n",
    "\n",
    "Statmeant:\n",
    "Untuk mencapai tujuan perlu menggunakan Invetory Turnover, agar proses jual beli lancar, diperlukan riset sebelum membuka showroom dengan cara melihat banyak mobil yang banyak terjual berdasarkan Body Style, Company dan Transmisi disetiap daerah agar tidak terjadi penumpukkan unit. \n",
    "\n",
    "\n",
    "\n",
    "\n",
    "\n"
   ]
  },
  {
   "cell_type": "markdown",
   "metadata": {},
   "source": [
    "Penjabaran masalah dengan metode 5W+1H:\n",
    "\n",
    "-Berapa banyak setiap tipe paling banyak diambil dari semua region?\n",
    "\n",
    "-Mencari dari mana pembelian body stylenya tertinggi disetiap region?\n",
    "\n",
    "-Melihat Body Style berdasarkan Company nya?\n",
    "\n",
    "-Apa jenis Transmission type SUV yang paling banyak diambil dari setiap region?\n",
    "\n",
    "-Berapa Annual Income yang dimiliki disetiap region?\n",
    "\n",
    "-Bagaimana distribusi harga mobil berbeda di antara perusahaan mobil yang berbeda?\n",
    "\n",
    "\n"
   ]
  },
  {
   "cell_type": "markdown",
   "metadata": {},
   "source": [
    "# Data Loading"
   ]
  },
  {
   "cell_type": "code",
   "execution_count": 2,
   "metadata": {},
   "outputs": [
    {
     "data": {
      "text/plain": [
       "'\\n=================================================\\nMilestone 1\\n\\nNama  : Muhammad Athaariq Ardi\\nBatch : HCK-013\\n\\nProgram ini dibuat untuk melakukan eksplorasi data sederhana, melihat unique di beberapa column dan info pada tiap column\\n\\n=================================================\\n'"
      ]
     },
     "execution_count": 2,
     "metadata": {},
     "output_type": "execute_result"
    }
   ],
   "source": [
    "'''\n",
    "=================================================\n",
    "Milestone 1\n",
    "\n",
    "Nama  : Muhammad Athaariq Ardi\n",
    "Batch : HCK-013\n",
    "\n",
    "Program ini dibuat untuk melakukan eksplorasi data sederhana, melihat unique di beberapa column dan info pada tiap column\n",
    "\n",
    "=================================================\n",
    "'''"
   ]
  },
  {
   "cell_type": "code",
   "execution_count": 3,
   "metadata": {},
   "outputs": [],
   "source": [
    "#Menambahkan library yang dibutuhkan\n",
    "import pandas as pd\n"
   ]
  },
  {
   "cell_type": "code",
   "execution_count": 4,
   "metadata": {},
   "outputs": [],
   "source": [
    "data_car = pd.read_csv(\"Car Sales.csv\")\n",
    "#data.drop('column_name', axis=1, inplace=True)\n",
    "    #data.rename(columns=lambda x: x.lower(), inplace=True)"
   ]
  },
  {
   "cell_type": "code",
   "execution_count": 5,
   "metadata": {},
   "outputs": [
    {
     "data": {
      "text/html": [
       "<div>\n",
       "<style scoped>\n",
       "    .dataframe tbody tr th:only-of-type {\n",
       "        vertical-align: middle;\n",
       "    }\n",
       "\n",
       "    .dataframe tbody tr th {\n",
       "        vertical-align: top;\n",
       "    }\n",
       "\n",
       "    .dataframe thead th {\n",
       "        text-align: right;\n",
       "    }\n",
       "</style>\n",
       "<table border=\"1\" class=\"dataframe\">\n",
       "  <thead>\n",
       "    <tr style=\"text-align: right;\">\n",
       "      <th></th>\n",
       "      <th>Car_id</th>\n",
       "      <th>Date</th>\n",
       "      <th>Customer Name</th>\n",
       "      <th>Gender</th>\n",
       "      <th>Annual Income</th>\n",
       "      <th>Dealer_Name</th>\n",
       "      <th>Company</th>\n",
       "      <th>Model</th>\n",
       "      <th>Engine</th>\n",
       "      <th>Transmission</th>\n",
       "      <th>Color</th>\n",
       "      <th>Price ($)</th>\n",
       "      <th>Dealer_No</th>\n",
       "      <th>Body Style</th>\n",
       "      <th>Phone</th>\n",
       "      <th>Dealer_Region</th>\n",
       "    </tr>\n",
       "  </thead>\n",
       "  <tbody>\n",
       "    <tr>\n",
       "      <th>0</th>\n",
       "      <td>C_CND_000001</td>\n",
       "      <td>1/2/2022</td>\n",
       "      <td>Geraldine</td>\n",
       "      <td>Male</td>\n",
       "      <td>13500</td>\n",
       "      <td>Buddy Storbeck's Diesel Service Inc</td>\n",
       "      <td>Ford</td>\n",
       "      <td>Expedition</td>\n",
       "      <td>DoubleÂ Overhead Camshaft</td>\n",
       "      <td>Auto</td>\n",
       "      <td>Black</td>\n",
       "      <td>26000</td>\n",
       "      <td>06457-3834</td>\n",
       "      <td>SUV</td>\n",
       "      <td>8264678</td>\n",
       "      <td>Middletown</td>\n",
       "    </tr>\n",
       "    <tr>\n",
       "      <th>1</th>\n",
       "      <td>C_CND_000002</td>\n",
       "      <td>1/2/2022</td>\n",
       "      <td>Gia</td>\n",
       "      <td>Male</td>\n",
       "      <td>1480000</td>\n",
       "      <td>C &amp; M Motors Inc</td>\n",
       "      <td>Dodge</td>\n",
       "      <td>Durango</td>\n",
       "      <td>DoubleÂ Overhead Camshaft</td>\n",
       "      <td>Auto</td>\n",
       "      <td>Black</td>\n",
       "      <td>19000</td>\n",
       "      <td>60504-7114</td>\n",
       "      <td>SUV</td>\n",
       "      <td>6848189</td>\n",
       "      <td>Aurora</td>\n",
       "    </tr>\n",
       "    <tr>\n",
       "      <th>2</th>\n",
       "      <td>C_CND_000003</td>\n",
       "      <td>1/2/2022</td>\n",
       "      <td>Gianna</td>\n",
       "      <td>Male</td>\n",
       "      <td>1035000</td>\n",
       "      <td>Capitol KIA</td>\n",
       "      <td>Cadillac</td>\n",
       "      <td>Eldorado</td>\n",
       "      <td>Overhead Camshaft</td>\n",
       "      <td>Manual</td>\n",
       "      <td>Red</td>\n",
       "      <td>31500</td>\n",
       "      <td>38701-8047</td>\n",
       "      <td>Passenger</td>\n",
       "      <td>7298798</td>\n",
       "      <td>Greenville</td>\n",
       "    </tr>\n",
       "    <tr>\n",
       "      <th>3</th>\n",
       "      <td>C_CND_000004</td>\n",
       "      <td>1/2/2022</td>\n",
       "      <td>Giselle</td>\n",
       "      <td>Male</td>\n",
       "      <td>13500</td>\n",
       "      <td>Chrysler of Tri-Cities</td>\n",
       "      <td>Toyota</td>\n",
       "      <td>Celica</td>\n",
       "      <td>Overhead Camshaft</td>\n",
       "      <td>Manual</td>\n",
       "      <td>Pale White</td>\n",
       "      <td>14000</td>\n",
       "      <td>99301-3882</td>\n",
       "      <td>SUV</td>\n",
       "      <td>6257557</td>\n",
       "      <td>Pasco</td>\n",
       "    </tr>\n",
       "    <tr>\n",
       "      <th>4</th>\n",
       "      <td>C_CND_000005</td>\n",
       "      <td>1/2/2022</td>\n",
       "      <td>Grace</td>\n",
       "      <td>Male</td>\n",
       "      <td>1465000</td>\n",
       "      <td>Chrysler Plymouth</td>\n",
       "      <td>Acura</td>\n",
       "      <td>TL</td>\n",
       "      <td>DoubleÂ Overhead Camshaft</td>\n",
       "      <td>Auto</td>\n",
       "      <td>Red</td>\n",
       "      <td>24500</td>\n",
       "      <td>53546-9427</td>\n",
       "      <td>Hatchback</td>\n",
       "      <td>7081483</td>\n",
       "      <td>Janesville</td>\n",
       "    </tr>\n",
       "    <tr>\n",
       "      <th>...</th>\n",
       "      <td>...</td>\n",
       "      <td>...</td>\n",
       "      <td>...</td>\n",
       "      <td>...</td>\n",
       "      <td>...</td>\n",
       "      <td>...</td>\n",
       "      <td>...</td>\n",
       "      <td>...</td>\n",
       "      <td>...</td>\n",
       "      <td>...</td>\n",
       "      <td>...</td>\n",
       "      <td>...</td>\n",
       "      <td>...</td>\n",
       "      <td>...</td>\n",
       "      <td>...</td>\n",
       "      <td>...</td>\n",
       "    </tr>\n",
       "    <tr>\n",
       "      <th>23901</th>\n",
       "      <td>C_CND_023902</td>\n",
       "      <td>12/31/2023</td>\n",
       "      <td>Martin</td>\n",
       "      <td>Male</td>\n",
       "      <td>13500</td>\n",
       "      <td>C &amp; M Motors Inc</td>\n",
       "      <td>Plymouth</td>\n",
       "      <td>Voyager</td>\n",
       "      <td>Overhead Camshaft</td>\n",
       "      <td>Manual</td>\n",
       "      <td>Red</td>\n",
       "      <td>12000</td>\n",
       "      <td>60504-7114</td>\n",
       "      <td>Passenger</td>\n",
       "      <td>8583598</td>\n",
       "      <td>Pasco</td>\n",
       "    </tr>\n",
       "    <tr>\n",
       "      <th>23902</th>\n",
       "      <td>C_CND_023903</td>\n",
       "      <td>12/31/2023</td>\n",
       "      <td>Jimmy</td>\n",
       "      <td>Female</td>\n",
       "      <td>900000</td>\n",
       "      <td>Ryder Truck Rental and Leasing</td>\n",
       "      <td>Chevrolet</td>\n",
       "      <td>Prizm</td>\n",
       "      <td>DoubleÂ Overhead Camshaft</td>\n",
       "      <td>Auto</td>\n",
       "      <td>Black</td>\n",
       "      <td>16000</td>\n",
       "      <td>06457-3834</td>\n",
       "      <td>Hardtop</td>\n",
       "      <td>7914229</td>\n",
       "      <td>Middletown</td>\n",
       "    </tr>\n",
       "    <tr>\n",
       "      <th>23903</th>\n",
       "      <td>C_CND_023904</td>\n",
       "      <td>12/31/2023</td>\n",
       "      <td>Emma</td>\n",
       "      <td>Male</td>\n",
       "      <td>705000</td>\n",
       "      <td>Chrysler of Tri-Cities</td>\n",
       "      <td>BMW</td>\n",
       "      <td>328i</td>\n",
       "      <td>Overhead Camshaft</td>\n",
       "      <td>Manual</td>\n",
       "      <td>Red</td>\n",
       "      <td>21000</td>\n",
       "      <td>99301-3882</td>\n",
       "      <td>Sedan</td>\n",
       "      <td>7659127</td>\n",
       "      <td>Scottsdale</td>\n",
       "    </tr>\n",
       "    <tr>\n",
       "      <th>23904</th>\n",
       "      <td>C_CND_023905</td>\n",
       "      <td>12/31/2023</td>\n",
       "      <td>Victoire</td>\n",
       "      <td>Male</td>\n",
       "      <td>13500</td>\n",
       "      <td>Chrysler Plymouth</td>\n",
       "      <td>Chevrolet</td>\n",
       "      <td>Metro</td>\n",
       "      <td>DoubleÂ Overhead Camshaft</td>\n",
       "      <td>Auto</td>\n",
       "      <td>Black</td>\n",
       "      <td>31000</td>\n",
       "      <td>53546-9427</td>\n",
       "      <td>Passenger</td>\n",
       "      <td>6030764</td>\n",
       "      <td>Austin</td>\n",
       "    </tr>\n",
       "    <tr>\n",
       "      <th>23905</th>\n",
       "      <td>C_CND_023906</td>\n",
       "      <td>12/31/2023</td>\n",
       "      <td>Donovan</td>\n",
       "      <td>Male</td>\n",
       "      <td>1225000</td>\n",
       "      <td>Pars Auto Sales</td>\n",
       "      <td>Lexus</td>\n",
       "      <td>ES300</td>\n",
       "      <td>DoubleÂ Overhead Camshaft</td>\n",
       "      <td>Auto</td>\n",
       "      <td>Pale White</td>\n",
       "      <td>27500</td>\n",
       "      <td>38701-8047</td>\n",
       "      <td>Hardtop</td>\n",
       "      <td>7020564</td>\n",
       "      <td>Middletown</td>\n",
       "    </tr>\n",
       "  </tbody>\n",
       "</table>\n",
       "<p>23906 rows × 16 columns</p>\n",
       "</div>"
      ],
      "text/plain": [
       "             Car_id        Date Customer Name  Gender  Annual Income  \\\n",
       "0      C_CND_000001    1/2/2022     Geraldine    Male          13500   \n",
       "1      C_CND_000002    1/2/2022           Gia    Male        1480000   \n",
       "2      C_CND_000003    1/2/2022        Gianna    Male        1035000   \n",
       "3      C_CND_000004    1/2/2022       Giselle    Male          13500   \n",
       "4      C_CND_000005    1/2/2022         Grace    Male        1465000   \n",
       "...             ...         ...           ...     ...            ...   \n",
       "23901  C_CND_023902  12/31/2023        Martin    Male          13500   \n",
       "23902  C_CND_023903  12/31/2023         Jimmy  Female         900000   \n",
       "23903  C_CND_023904  12/31/2023          Emma    Male         705000   \n",
       "23904  C_CND_023905  12/31/2023      Victoire    Male          13500   \n",
       "23905  C_CND_023906  12/31/2023       Donovan    Male        1225000   \n",
       "\n",
       "                               Dealer_Name    Company       Model  \\\n",
       "0      Buddy Storbeck's Diesel Service Inc       Ford  Expedition   \n",
       "1                         C & M Motors Inc      Dodge     Durango   \n",
       "2                              Capitol KIA   Cadillac    Eldorado   \n",
       "3                   Chrysler of Tri-Cities     Toyota      Celica   \n",
       "4                        Chrysler Plymouth      Acura          TL   \n",
       "...                                    ...        ...         ...   \n",
       "23901                     C & M Motors Inc   Plymouth     Voyager   \n",
       "23902       Ryder Truck Rental and Leasing  Chevrolet       Prizm   \n",
       "23903               Chrysler of Tri-Cities        BMW        328i   \n",
       "23904                    Chrysler Plymouth  Chevrolet       Metro   \n",
       "23905                      Pars Auto Sales      Lexus       ES300   \n",
       "\n",
       "                          Engine Transmission       Color  Price ($)  \\\n",
       "0      DoubleÂ Overhead Camshaft         Auto       Black      26000   \n",
       "1      DoubleÂ Overhead Camshaft         Auto       Black      19000   \n",
       "2              Overhead Camshaft       Manual         Red      31500   \n",
       "3              Overhead Camshaft       Manual  Pale White      14000   \n",
       "4      DoubleÂ Overhead Camshaft         Auto         Red      24500   \n",
       "...                          ...          ...         ...        ...   \n",
       "23901          Overhead Camshaft       Manual         Red      12000   \n",
       "23902  DoubleÂ Overhead Camshaft         Auto       Black      16000   \n",
       "23903          Overhead Camshaft       Manual         Red      21000   \n",
       "23904  DoubleÂ Overhead Camshaft         Auto       Black      31000   \n",
       "23905  DoubleÂ Overhead Camshaft         Auto  Pale White      27500   \n",
       "\n",
       "       Dealer_No  Body Style    Phone Dealer_Region  \n",
       "0      06457-3834        SUV  8264678    Middletown  \n",
       "1      60504-7114        SUV  6848189        Aurora  \n",
       "2      38701-8047  Passenger  7298798    Greenville  \n",
       "3      99301-3882        SUV  6257557         Pasco  \n",
       "4      53546-9427  Hatchback  7081483    Janesville  \n",
       "...           ...        ...      ...           ...  \n",
       "23901  60504-7114  Passenger  8583598         Pasco  \n",
       "23902  06457-3834    Hardtop  7914229    Middletown  \n",
       "23903  99301-3882      Sedan  7659127    Scottsdale  \n",
       "23904  53546-9427  Passenger  6030764        Austin  \n",
       "23905  38701-8047    Hardtop  7020564    Middletown  \n",
       "\n",
       "[23906 rows x 16 columns]"
      ]
     },
     "execution_count": 5,
     "metadata": {},
     "output_type": "execute_result"
    }
   ],
   "source": [
    "data_car"
   ]
  },
  {
   "cell_type": "code",
   "execution_count": 6,
   "metadata": {},
   "outputs": [
    {
     "data": {
      "text/plain": [
       "array(['Black', 'Red', 'Pale White'], dtype=object)"
      ]
     },
     "execution_count": 6,
     "metadata": {},
     "output_type": "execute_result"
    }
   ],
   "source": [
    "data_car['Color'].unique()#Melihat warna mobil yang banyak dibeli diseluruh daerah"
   ]
  },
  {
   "cell_type": "code",
   "execution_count": 7,
   "metadata": {},
   "outputs": [
    {
     "data": {
      "text/plain": [
       "array([  13500, 1480000, 1035000, ...,  374060, 4111000, 1369000],\n",
       "      dtype=int64)"
      ]
     },
     "execution_count": 7,
     "metadata": {},
     "output_type": "execute_result"
    }
   ],
   "source": [
    "data_car['Annual Income'].unique()#Melihat pendapatan pertahun costumer dari seluruh daerah"
   ]
  },
  {
   "cell_type": "code",
   "execution_count": 8,
   "metadata": {},
   "outputs": [
    {
     "data": {
      "text/plain": [
       "array(['Ford', 'Dodge', 'Cadillac', 'Toyota', 'Acura', 'Mitsubishi',\n",
       "       'Chevrolet', 'Nissan', 'Mercury', 'BMW', 'Chrysler', 'Subaru',\n",
       "       'Hyundai', 'Honda', 'Infiniti', 'Audi', 'Porsche', 'Volkswagen',\n",
       "       'Buick', 'Saturn', 'Mercedes-B', 'Jaguar', 'Volvo', 'Pontiac',\n",
       "       'Lincoln', 'Oldsmobile', 'Lexus', 'Plymouth', 'Saab', 'Jeep'],\n",
       "      dtype=object)"
      ]
     },
     "execution_count": 8,
     "metadata": {},
     "output_type": "execute_result"
    }
   ],
   "source": [
    "data_car['Company'].unique()#Melihat perusahan asal mobil"
   ]
  },
  {
   "cell_type": "code",
   "execution_count": 9,
   "metadata": {},
   "outputs": [
    {
     "data": {
      "text/plain": [
       "array(['Expedition', 'Durango', 'Eldorado', 'Celica', 'TL', 'Diamante',\n",
       "       'Corolla', 'Galant', 'Malibu', 'Escort', 'RL', 'Pathfinder',\n",
       "       'Grand Marquis', '323i', 'Sebring Coupe', 'Forester', 'Accent',\n",
       "       'Land Cruiser', 'Accord', '4Runner', 'I30', 'A4', 'Carrera Cabrio',\n",
       "       'Jetta', 'Viper', 'Regal', 'LHS', 'LW', '3000GT', 'SLK230',\n",
       "       'Civic', 'S-Type', 'S40', 'Mountaineer', 'Park Avenue',\n",
       "       'Montero Sport', 'Sentra', 'S80', 'Lumina', 'Bonneville',\n",
       "       'C-Class', 'Altima', 'DeVille', 'Stratus', 'Cougar', 'SW', 'C70',\n",
       "       'SLK', 'Tacoma', 'M-Class', 'A6', 'Intrepid', 'Sienna', 'Eclipse',\n",
       "       'Contour', 'Town car', 'Focus', 'Mustang', 'Cutlass', 'Corvette',\n",
       "       'Impala', 'Cabrio', 'Dakota', '300M', '328i', 'Bravada', 'Maxima',\n",
       "       'Ram Pickup', 'Concorde', 'V70', 'Quest', 'ES300', 'SL-Class',\n",
       "       'Explorer', 'Prizm', 'Camaro', 'Outback', 'Taurus', 'Cavalier',\n",
       "       'GS400', 'Monte Carlo', 'Sonata', 'Sable', 'Metro', 'Voyager',\n",
       "       'Cirrus', 'Avenger', 'Odyssey', 'Intrigue', 'Silhouette', '5-Sep',\n",
       "       '528i', 'LS400', 'Aurora', 'Breeze', 'Beetle', 'Elantra',\n",
       "       'Continental', 'RAV4', 'Villager', 'S70', 'LS', 'Ram Van',\n",
       "       'S-Class', 'E-Class', 'Grand Am', 'SC', 'Passat', 'Xterra',\n",
       "       'Frontier', 'Crown Victoria', 'Camry', 'Navigator', 'CL500',\n",
       "       'Escalade', 'Golf', 'Ranger', 'Prowler', 'Windstar', 'GTI',\n",
       "       'Passport', 'Boxter', 'LX470', 'CR-V', 'Sunfire', 'Caravan',\n",
       "       'Ram Wagon', 'Neon', 'Wrangler', 'Integra', 'Grand Prix',\n",
       "       'Grand Cherokee', 'F-Series', 'A8', 'Mystique', '3-Sep',\n",
       "       'Cherokee', 'Carrera Coupe', 'Catera', 'Seville', 'CLK Coupe',\n",
       "       'LeSabre', 'Sebring Conv.', 'GS300', 'Firebird', 'V40', 'Montero',\n",
       "       'Town & Country', 'SL', 'Alero', 'Mirage', 'Century', 'RX300',\n",
       "       'Avalon'], dtype=object)"
      ]
     },
     "execution_count": 9,
     "metadata": {},
     "output_type": "execute_result"
    }
   ],
   "source": [
    "data_car ['Model'].unique()#Melihat nama mobil apa saja yang dijual"
   ]
  },
  {
   "cell_type": "code",
   "execution_count": 10,
   "metadata": {},
   "outputs": [
    {
     "data": {
      "text/plain": [
       "array(['Ford', 'Dodge', 'Cadillac', 'Toyota', 'Acura', 'Mitsubishi',\n",
       "       'Chevrolet', 'Nissan', 'Mercury', 'BMW', 'Chrysler', 'Subaru',\n",
       "       'Hyundai', 'Honda', 'Infiniti', 'Audi', 'Porsche', 'Volkswagen',\n",
       "       'Buick', 'Saturn', 'Mercedes-B', 'Jaguar', 'Volvo', 'Pontiac',\n",
       "       'Lincoln', 'Oldsmobile', 'Lexus', 'Plymouth', 'Saab', 'Jeep'],\n",
       "      dtype=object)"
      ]
     },
     "execution_count": 10,
     "metadata": {},
     "output_type": "execute_result"
    }
   ],
   "source": [
    "data_car ['Company'].unique()# Malihat unique untuk memudahkan melihat asal perusahan asal mobil yang akan dijual"
   ]
  },
  {
   "cell_type": "code",
   "execution_count": 11,
   "metadata": {},
   "outputs": [
    {
     "data": {
      "text/plain": [
       "array(['Middletown', 'Aurora', 'Greenville', 'Pasco', 'Janesville',\n",
       "       'Scottsdale', 'Austin'], dtype=object)"
      ]
     },
     "execution_count": 11,
     "metadata": {},
     "output_type": "execute_result"
    }
   ],
   "source": [
    "data_car ['Dealer_Region'].unique()# Malihat unique untuk daerah yang akan dibuka nya cabang showroom"
   ]
  },
  {
   "cell_type": "code",
   "execution_count": 12,
   "metadata": {},
   "outputs": [
    {
     "data": {
      "text/plain": [
       "array(['SUV', 'Passenger', 'Hatchback', 'Hardtop', 'Sedan'], dtype=object)"
      ]
     },
     "execution_count": 12,
     "metadata": {},
     "output_type": "execute_result"
    }
   ],
   "source": [
    "data_car ['Body Style'].unique()# Malihat unique untuk body type"
   ]
  },
  {
   "cell_type": "code",
   "execution_count": 13,
   "metadata": {},
   "outputs": [
    {
     "name": "stdout",
     "output_type": "stream",
     "text": [
      "<class 'pandas.core.frame.DataFrame'>\n",
      "RangeIndex: 23906 entries, 0 to 23905\n",
      "Data columns (total 16 columns):\n",
      " #   Column         Non-Null Count  Dtype \n",
      "---  ------         --------------  ----- \n",
      " 0   Car_id         23906 non-null  object\n",
      " 1   Date           23906 non-null  object\n",
      " 2   Customer Name  23906 non-null  object\n",
      " 3   Gender         23906 non-null  object\n",
      " 4   Annual Income  23906 non-null  int64 \n",
      " 5   Dealer_Name    23906 non-null  object\n",
      " 6   Company        23906 non-null  object\n",
      " 7   Model          23906 non-null  object\n",
      " 8   Engine         23906 non-null  object\n",
      " 9   Transmission   23906 non-null  object\n",
      " 10  Color          23906 non-null  object\n",
      " 11  Price ($)      23906 non-null  int64 \n",
      " 12  Dealer_No      23906 non-null  object\n",
      " 13  Body Style     23906 non-null  object\n",
      " 14  Phone          23906 non-null  int64 \n",
      " 15  Dealer_Region  23906 non-null  object\n",
      "dtypes: int64(3), object(13)\n",
      "memory usage: 2.9+ MB\n"
     ]
    }
   ],
   "source": [
    "data_car.info()#Melihat apakah ada data dytape yang tidak sesuai"
   ]
  },
  {
   "cell_type": "markdown",
   "metadata": {},
   "source": [
    "# Data Cleaning"
   ]
  },
  {
   "cell_type": "code",
   "execution_count": 14,
   "metadata": {},
   "outputs": [
    {
     "data": {
      "text/plain": [
       "'\\n=================================================\\nMilestone 1\\n\\nNama  : Muhammad Athaariq Ardi\\nBatch : HCK-013\\n\\nProgram ini dibuat untuk melakukan data cleaning sebelum dilakukan explorasi data lebih lanjut. seperti mendrop column yang tidak diperlukan, membuang karakter khusus dan mengubah dytape lalu melakukan pengecekan NaN dan duplicate\\n\\n=================================================\\n'"
      ]
     },
     "execution_count": 14,
     "metadata": {},
     "output_type": "execute_result"
    }
   ],
   "source": [
    "'''\n",
    "=================================================\n",
    "Milestone 1\n",
    "\n",
    "Nama  : Muhammad Athaariq Ardi\n",
    "Batch : HCK-013\n",
    "\n",
    "Program ini dibuat untuk melakukan data cleaning sebelum dilakukan explorasi data lebih lanjut. seperti mendrop column yang tidak diperlukan, membuang karakter khusus dan mengubah dytape lalu melakukan pengecekan NaN dan duplicate\n",
    "\n",
    "=================================================\n",
    "'''"
   ]
  },
  {
   "cell_type": "code",
   "execution_count": 15,
   "metadata": {},
   "outputs": [],
   "source": [
    "data_car.drop(columns =['Gender'], inplace= True)#Mendrop column yang tidak dibutuhkan"
   ]
  },
  {
   "cell_type": "code",
   "execution_count": 16,
   "metadata": {},
   "outputs": [],
   "source": [
    "data_car.drop(columns =['Phone'], inplace= True)#Mendrop column yang tidak dibutuhkan"
   ]
  },
  {
   "cell_type": "code",
   "execution_count": 17,
   "metadata": {},
   "outputs": [],
   "source": [
    "data_car['Date'] = pd.to_datetime(data_car['Date'])#Mengubah dytape yang tidak sesuai"
   ]
  },
  {
   "cell_type": "code",
   "execution_count": 18,
   "metadata": {},
   "outputs": [],
   "source": [
    "data_car['Engine'] = data_car['Engine'].str.replace('Â','')#Menghilangkan simbol atau karakter yang sulit dimengerti"
   ]
  },
  {
   "cell_type": "code",
   "execution_count": 19,
   "metadata": {},
   "outputs": [
    {
     "data": {
      "text/plain": [
       "Car_id           0\n",
       "Date             0\n",
       "Customer Name    0\n",
       "Annual Income    0\n",
       "Dealer_Name      0\n",
       "Company          0\n",
       "Model            0\n",
       "Engine           0\n",
       "Transmission     0\n",
       "Color            0\n",
       "Price ($)        0\n",
       "Dealer_No        0\n",
       "Body Style       0\n",
       "Dealer_Region    0\n",
       "dtype: int64"
      ]
     },
     "execution_count": 19,
     "metadata": {},
     "output_type": "execute_result"
    }
   ],
   "source": [
    "data_car.isna().sum()# Untuk mengecek apakah terdapat data NaN di dataset\n",
    "\n"
   ]
  },
  {
   "cell_type": "code",
   "execution_count": 20,
   "metadata": {},
   "outputs": [
    {
     "data": {
      "text/plain": [
       "0        False\n",
       "1        False\n",
       "2        False\n",
       "3        False\n",
       "4        False\n",
       "         ...  \n",
       "23901    False\n",
       "23902    False\n",
       "23903    False\n",
       "23904    False\n",
       "23905    False\n",
       "Length: 23906, dtype: bool"
      ]
     },
     "execution_count": 20,
     "metadata": {},
     "output_type": "execute_result"
    }
   ],
   "source": [
    "data_car.duplicated()#Mengecek apakah terdapat data duplicate di dataset\n"
   ]
  },
  {
   "cell_type": "markdown",
   "metadata": {},
   "source": [
    "# Data Analisis dan perhitungan\n"
   ]
  },
  {
   "cell_type": "code",
   "execution_count": 21,
   "metadata": {},
   "outputs": [
    {
     "data": {
      "text/plain": [
       "'\\n=================================================\\nMilestone 1\\n\\nNama  : Muhammad Athaariq Ardi\\nBatch : HCK-013\\n\\nProgram ini dibuat untuk melakukan analisis, penjelasan, perhitungan statistik deskriptif, inferensial, serta pembuatan visualisasi data, seperti menjawab penjabaran masalah dengan menampilkan visualisasi data \\n\\n=================================================\\n'"
      ]
     },
     "execution_count": 21,
     "metadata": {},
     "output_type": "execute_result"
    }
   ],
   "source": [
    "'''\n",
    "=================================================\n",
    "Milestone 1\n",
    "\n",
    "Nama  : Muhammad Athaariq Ardi\n",
    "Batch : HCK-013\n",
    "\n",
    "Program ini dibuat untuk melakukan analisis, penjelasan, perhitungan statistik deskriptif, inferensial, serta pembuatan visualisasi data, seperti menjawab penjabaran masalah dengan menampilkan visualisasi data \n",
    "\n",
    "=================================================\n",
    "'''"
   ]
  },
  {
   "cell_type": "code",
   "execution_count": 22,
   "metadata": {},
   "outputs": [],
   "source": [
    "'''\n",
    "Memasukkan library yang diperlukan\n",
    "'''\n",
    "from scipy import stats \n",
    "import matplotlib.pyplot as plt\n",
    "import numpy as np"
   ]
  },
  {
   "cell_type": "code",
   "execution_count": 23,
   "metadata": {},
   "outputs": [
    {
     "name": "stdout",
     "output_type": "stream",
     "text": [
      "<class 'pandas.core.frame.DataFrame'>\n",
      "RangeIndex: 23906 entries, 0 to 23905\n",
      "Data columns (total 14 columns):\n",
      " #   Column         Non-Null Count  Dtype         \n",
      "---  ------         --------------  -----         \n",
      " 0   Car_id         23906 non-null  object        \n",
      " 1   Date           23906 non-null  datetime64[ns]\n",
      " 2   Customer Name  23906 non-null  object        \n",
      " 3   Annual Income  23906 non-null  int64         \n",
      " 4   Dealer_Name    23906 non-null  object        \n",
      " 5   Company        23906 non-null  object        \n",
      " 6   Model          23906 non-null  object        \n",
      " 7   Engine         23906 non-null  object        \n",
      " 8   Transmission   23906 non-null  object        \n",
      " 9   Color          23906 non-null  object        \n",
      " 10  Price ($)      23906 non-null  int64         \n",
      " 11  Dealer_No      23906 non-null  object        \n",
      " 12  Body Style     23906 non-null  object        \n",
      " 13  Dealer_Region  23906 non-null  object        \n",
      "dtypes: datetime64[ns](1), int64(2), object(11)\n",
      "memory usage: 2.6+ MB\n"
     ]
    }
   ],
   "source": [
    "data_car.info()"
   ]
  },
  {
   "cell_type": "markdown",
   "metadata": {},
   "source": [
    "-Berapa total penjualan setiap tipe yang diambil dari semua region?"
   ]
  },
  {
   "cell_type": "code",
   "execution_count": 24,
   "metadata": {},
   "outputs": [
    {
     "name": "stdout",
     "output_type": "stream",
     "text": [
      "SUV          6374\n",
      "Hatchback    6128\n",
      "Sedan        4488\n",
      "Passenger    3945\n",
      "Hardtop      2971\n",
      "Name: Body Style, dtype: int64\n"
     ]
    }
   ],
   "source": [
    "# Mengetahui jumlah pembelian mobil berdasarkan body type\n",
    "pvl_body = data_car['Body Style'].value_counts()#Mengambil value dari body type\n",
    "print(pvl_body)"
   ]
  },
  {
   "cell_type": "code",
   "execution_count": 25,
   "metadata": {},
   "outputs": [
    {
     "data": {
      "text/plain": [
       "<Axes: >"
      ]
     },
     "execution_count": 25,
     "metadata": {},
     "output_type": "execute_result"
    },
    {
     "data": {
      "image/png": "[encoded data removed]",
      "text/plain": [
       "<Figure size 640x480 with 1 Axes>"
      ]
     },
     "metadata": {},
     "output_type": "display_data"
    }
   ],
   "source": [
    "pvl_body.plot(kind='bar') #Menampilkan bar dari body type mobil yang dibel"
   ]
  },
  {
   "cell_type": "markdown",
   "metadata": {},
   "source": [
    "Insight: Dari data yang didapat dari pencarian nilai p-value di tabel atas, dapat dilihat bahwasannya dari penjualan 5 Body Style, type SUV dan Hatchback memiliki angka yang lebih banyak dibeli dari pada type lainnnya."
   ]
  },
  {
   "cell_type": "markdown",
   "metadata": {},
   "source": [
    "-Mencari dari mana pembelian body stylenya tertinggi disetiap region?"
   ]
  },
  {
   "cell_type": "code",
   "execution_count": 26,
   "metadata": {},
   "outputs": [
    {
     "data": {
      "image/png": "[encoded data removed]",
      "text/plain": [
       "<Figure size 800x600 with 1 Axes>"
      ]
     },
     "metadata": {},
     "output_type": "display_data"
    }
   ],
   "source": [
    "pembelian_perdaerah = data_car.groupby(['Dealer_Region', 'Body Style']).size().unstack(fill_value=0)#Menggabungkan column\n",
    "\n",
    "# Membuat plot\n",
    "x = pembelian_perdaerah.plot(kind='bar', figsize=(8, 6))#Menambahkan variabel baru untuk mengatur size \n",
    "\n",
    "# Menambahkan label dan judul\n",
    "plt.xlabel('Dealer Region') #Menentukan parameter dari sumbu X\n",
    "plt.ylabel('Count') #Menentukan parameter dari sumbu Y \n",
    "plt.title('Number of Cars by Body Style and Dealer_Region') #Judul dari chart\n",
    "x.legend(loc = 'upper left', fontsize=7)#Mengatur size\n",
    "# Menampilkan plot\n",
    "\n",
    "plt.show()\n"
   ]
  },
  {
   "cell_type": "markdown",
   "metadata": {},
   "source": [
    "Insight: Dari barchart diatas dapat dilihat, dari setiap region memiliki minat type mobil SUV yang selalu berada diatas angka 800, dan pada region Austin,angka pembelian type USV mencapai lebih dari 1000, lalu disusul oleh oleh type Hatchback yang mencapai angka lebih 800, dan diregion Austin, angka pembelian juga mencapai lebih dari 1000. Pada pembelian type Sedan, angka pembelian berhasil mencapai lebih dari 600, dan yang tertinggi berada di region Janesville, Lalu disusul oleh type Passenger, angka pembelian nya berada di atas 400, dan yang paling tinggi pemebelian berada di Janesville. Untuk type Hardtop berada di urutan paling bawah dalam angka pembelian, karna rata\" pembelian disetiap daerah tidak mencapai nilai 800, dan diregion Scottsdale tidak mencapai angka 400.\n",
    "Dari setiap region, tipe SUV dan Hatchback menjadi type yang paling banyak dibeli,\n",
    "dapat disimpulkan bahwasannya type mobil yang banyak dibeli adalah type city car dikarnakan 5 region ini adalah kota besar yang cocok menggunakan type city car."
   ]
  },
  {
   "cell_type": "markdown",
   "metadata": {},
   "source": [
    "-Melihat Body Style berdasarkan Company nya?"
   ]
  },
  {
   "cell_type": "code",
   "execution_count": 27,
   "metadata": {},
   "outputs": [
    {
     "data": {
      "image/png": "[encoded data removed]",
      "text/plain": [
       "<Figure size 1500x600 with 1 Axes>"
      ]
     },
     "metadata": {},
     "output_type": "display_data"
    }
   ],
   "source": [
    "comp_body= data_car.groupby(['Company','Body Style']).size().unstack(fill_value=0)\n",
    "\n",
    "# Membuat plot\n",
    "x = comp_body.plot(kind='bar', figsize=(15, 6))#Menambahkan variabel baru untuk mengatur size \n",
    "\n",
    "# Menambahkan label dan judul\n",
    "plt.xlabel('Company') #Menentukan parameter dari sumbu X\n",
    "plt.ylabel('Count') #Menentukan parameter dari sumbu Y \n",
    "plt.title('Number of Cars by Body Style and Company') #Judul dari chart\n",
    "x.legend(loc = 'upper left', fontsize=7)\n",
    "# Menampilkan plot\n",
    "\n",
    "plt.show()\n"
   ]
  },
  {
   "cell_type": "markdown",
   "metadata": {},
   "source": [
    "Insight: Dari barchart diatas, sebanyak 30 company adalah asal mobil yang terjual dari 7 region. Data juga menunjukkan banyak body style yang dibeli dari setiap company, pada SUV, banyak nya terjual dengan angka tertinggi dimiliki oleh company Dodge dan terendah dimiliki oleh company Buick, lalu di body style Hatcback, nilai tertinggi ada pada company Mitsubishi dan yang terendah ada di Audi, lalu pada body style Hardtop, nilai tertinggi ada di company Chevrolet dan yang memiliki nilai terendah ada dicompany Oldsmobile, untuk pasengger, body style nya yang tertinggi ada di Chevrolet dan untuk di nilai terendah nya ada di Audi, terakhir body style sedan, nilai tertinggi ada pada company Volvo dan yang terendah ada di Buick."
   ]
  },
  {
   "cell_type": "markdown",
   "metadata": {},
   "source": [
    "Apa jenis Transmission dari tiap body style yang paling banyak diambil dari setiap region?"
   ]
  },
  {
   "cell_type": "code",
   "execution_count": 28,
   "metadata": {},
   "outputs": [
    {
     "data": {
      "image/png": "[encoded data removed]",
      "text/plain": [
       "<Figure size 800x600 with 1 Axes>"
      ]
     },
     "metadata": {},
     "output_type": "display_data"
    }
   ],
   "source": [
    "\n",
    "pembelian_perdaerah= data_car.groupby(['Dealer_Region','Transmission'])['Body Style'].value_counts().unstack(fill_value=0)\n",
    "\n",
    "# Membuat plot\n",
    "x = pembelian_perdaerah.plot(kind='bar', figsize=(8, 6))#Menambahkan variabel baru untuk mengatur size \n",
    "\n",
    "# Menambahkan label dan judul\n",
    "plt.xlabel('Transmission') #Menentukan parameter dari sumbu X\n",
    "plt.ylabel('Count') #Menentukan parameter dari sumbu Y \n",
    "plt.title('Count by Body Style and Transmission') #Judul dari chart\n",
    "x.legend(loc = 'upper left', fontsize=7)\n",
    "# Menampilkan plot\n",
    "\n",
    "plt.show()\n"
   ]
  },
  {
   "cell_type": "markdown",
   "metadata": {},
   "source": [
    "Insight: Pada setiap region  dapat dilihat bahwasan transmission yang lebih banyak digunakan adalah manual dari pada auto, dikarnakan pada setiap region berada di dataran tinggi seperti daerah pegunungan Rocky, Pegunungan Blue Ridge,pegunungan Cascade, Pegunungan McDowell, tebing sekitar sungai Connecticut"
   ]
  },
  {
   "cell_type": "markdown",
   "metadata": {},
   "source": [
    "-Berapa Annual Income yang dimiliki disetiap region?"
   ]
  },
  {
   "cell_type": "code",
   "execution_count": 29,
   "metadata": {},
   "outputs": [
    {
     "name": "stdout",
     "output_type": "stream",
     "text": [
      "Annual Income terbesar disetiap daerah : Dealer_Region\n",
      "Aurora         7650000\n",
      "Austin        11200000\n",
      "Greenville     6800000\n",
      "Janesville     5500000\n",
      "Middletown     6400000\n",
      "Pasco          6460000\n",
      "Scottsdale     6240000\n",
      "Name: Annual Income, dtype: int64\n"
     ]
    }
   ],
   "source": [
    "max_income_per_region = data_car.groupby('Dealer_Region')['Annual Income'].agg('max')#Melihat pendapatan tertinggi dari setiap region\n",
    "print('Annual Income terbesar disetiap daerah :',max_income_per_region)"
   ]
  },
  {
   "cell_type": "code",
   "execution_count": 30,
   "metadata": {},
   "outputs": [
    {
     "name": "stdout",
     "output_type": "stream",
     "text": [
      "Annual Income terkecil disetiap daerah : Dealer_Region\n",
      "Aurora        13500\n",
      "Austin        13500\n",
      "Greenville    13500\n",
      "Janesville    13500\n",
      "Middletown    13500\n",
      "Pasco         10080\n",
      "Scottsdale    13500\n",
      "Name: Annual Income, dtype: int64\n"
     ]
    }
   ],
   "source": [
    "min_income_per_region = data_car.groupby('Dealer_Region')['Annual Income'].agg('min')#Melihat pendapatan terendah dari setiap region\n",
    "print('Annual Income terkecil disetiap daerah :',min_income_per_region)"
   ]
  },
  {
   "cell_type": "code",
   "execution_count": 31,
   "metadata": {},
   "outputs": [
    {
     "name": "stdout",
     "output_type": "stream",
     "text": [
      "\n",
      "Rata-rata Annual Income berdasarkan Daerah:\n",
      "Dealer_Region\n",
      "Aurora        845510.435783\n",
      "Austin        822849.572189\n",
      "Greenville    832667.512788\n",
      "Janesville    833916.268778\n",
      "Middletown    825592.651854\n",
      "Pasco         853975.290323\n",
      "Scottsdale    805682.702884\n",
      "Name: Annual Income, dtype: float64\n"
     ]
    }
   ],
   "source": [
    "mean_income_by_region = data_car.groupby('Dealer_Region')['Annual Income'].mean() #Mencari rata-rata pada annual income yang berdasakan region\n",
    "\n",
    "print(\"\\nRata-rata Annual Income berdasarkan Daerah:\")\n",
    "print(mean_income_by_region)"
   ]
  },
  {
   "cell_type": "code",
   "execution_count": 32,
   "metadata": {},
   "outputs": [
    {
     "name": "stdout",
     "output_type": "stream",
     "text": [
      "median Annual Income berdasarkan Daerah:\n",
      "Dealer_Region\n",
      "Aurora        741000.0\n",
      "Austin        726000.0\n",
      "Greenville    750000.0\n",
      "Janesville    745000.0\n",
      "Middletown    725000.0\n",
      "Pasco         745000.0\n",
      "Scottsdale    720000.0\n",
      "Name: Annual Income, dtype: float64\n"
     ]
    }
   ],
   "source": [
    "median_income_by_region = data_car.groupby('Dealer_Region')['Annual Income'].median()\n",
    "\n",
    "print(\"median Annual Income berdasarkan Daerah:\")\n",
    "print(median_income_by_region)"
   ]
  },
  {
   "cell_type": "code",
   "execution_count": 33,
   "metadata": {},
   "outputs": [
    {
     "data": {
      "text/plain": [
       "<Axes: xlabel='Dealer_Region'>"
      ]
     },
     "execution_count": 33,
     "metadata": {},
     "output_type": "execute_result"
    },
    {
     "data": {
      "image/png": "[encoded data removed]",
      "text/plain": [
       "<Figure size 640x480 with 1 Axes>"
      ]
     },
     "metadata": {},
     "output_type": "display_data"
    }
   ],
   "source": [
    "median_income_by_region.plot(kind='bar')# Dikarnakan nilai median hampir merata"
   ]
  },
  {
   "cell_type": "markdown",
   "metadata": {},
   "source": [
    "Insight:Pada annual income yang dicari nilai mean dan median disetiap region untuk melihat outlayer, diputuskan menggunakan nilai median sebagai acuan annual income disetiap daerah masing\". Berdasarkan data yang didapat, Annual Income setiap region memiliki nilai yang hampir sama, berarti membuka cabang showroom dapat dibuka disetiap daerah. "
   ]
  },
  {
   "cell_type": "code",
   "execution_count": 34,
   "metadata": {},
   "outputs": [
    {
     "data": {
      "text/html": [
       "<div>\n",
       "<style scoped>\n",
       "    .dataframe tbody tr th:only-of-type {\n",
       "        vertical-align: middle;\n",
       "    }\n",
       "\n",
       "    .dataframe tbody tr th {\n",
       "        vertical-align: top;\n",
       "    }\n",
       "\n",
       "    .dataframe thead th {\n",
       "        text-align: right;\n",
       "    }\n",
       "</style>\n",
       "<table border=\"1\" class=\"dataframe\">\n",
       "  <thead>\n",
       "    <tr style=\"text-align: right;\">\n",
       "      <th></th>\n",
       "      <th>Annual Income</th>\n",
       "      <th>Price ($)</th>\n",
       "    </tr>\n",
       "  </thead>\n",
       "  <tbody>\n",
       "    <tr>\n",
       "      <th>count</th>\n",
       "      <td>2.390600e+04</td>\n",
       "      <td>23906.000000</td>\n",
       "    </tr>\n",
       "    <tr>\n",
       "      <th>mean</th>\n",
       "      <td>8.308403e+05</td>\n",
       "      <td>28090.247846</td>\n",
       "    </tr>\n",
       "    <tr>\n",
       "      <th>std</th>\n",
       "      <td>7.200064e+05</td>\n",
       "      <td>14788.687608</td>\n",
       "    </tr>\n",
       "    <tr>\n",
       "      <th>min</th>\n",
       "      <td>1.008000e+04</td>\n",
       "      <td>1200.000000</td>\n",
       "    </tr>\n",
       "    <tr>\n",
       "      <th>25%</th>\n",
       "      <td>3.860000e+05</td>\n",
       "      <td>18001.000000</td>\n",
       "    </tr>\n",
       "    <tr>\n",
       "      <th>50%</th>\n",
       "      <td>7.350000e+05</td>\n",
       "      <td>23000.000000</td>\n",
       "    </tr>\n",
       "    <tr>\n",
       "      <th>75%</th>\n",
       "      <td>1.175750e+06</td>\n",
       "      <td>34000.000000</td>\n",
       "    </tr>\n",
       "    <tr>\n",
       "      <th>max</th>\n",
       "      <td>1.120000e+07</td>\n",
       "      <td>85800.000000</td>\n",
       "    </tr>\n",
       "  </tbody>\n",
       "</table>\n",
       "</div>"
      ],
      "text/plain": [
       "       Annual Income     Price ($)\n",
       "count   2.390600e+04  23906.000000\n",
       "mean    8.308403e+05  28090.247846\n",
       "std     7.200064e+05  14788.687608\n",
       "min     1.008000e+04   1200.000000\n",
       "25%     3.860000e+05  18001.000000\n",
       "50%     7.350000e+05  23000.000000\n",
       "75%     1.175750e+06  34000.000000\n",
       "max     1.120000e+07  85800.000000"
      ]
     },
     "execution_count": 34,
     "metadata": {},
     "output_type": "execute_result"
    }
   ],
   "source": [
    "data_car.describe()"
   ]
  },
  {
   "cell_type": "markdown",
   "metadata": {},
   "source": [
    "-Bagaimana distribusi harga mobil berbeda di antara perusahaan mobil yang berbeda?"
   ]
  },
  {
   "cell_type": "code",
   "execution_count": 35,
   "metadata": {},
   "outputs": [
    {
     "name": "stdout",
     "output_type": "stream",
     "text": [
      "<class 'pandas.core.frame.DataFrame'>\n",
      "RangeIndex: 23906 entries, 0 to 23905\n",
      "Data columns (total 14 columns):\n",
      " #   Column         Non-Null Count  Dtype         \n",
      "---  ------         --------------  -----         \n",
      " 0   Car_id         23906 non-null  object        \n",
      " 1   Date           23906 non-null  datetime64[ns]\n",
      " 2   Customer Name  23906 non-null  object        \n",
      " 3   Annual Income  23906 non-null  int64         \n",
      " 4   Dealer_Name    23906 non-null  object        \n",
      " 5   Company        23906 non-null  object        \n",
      " 6   Model          23906 non-null  object        \n",
      " 7   Engine         23906 non-null  object        \n",
      " 8   Transmission   23906 non-null  object        \n",
      " 9   Color          23906 non-null  object        \n",
      " 10  Price ($)      23906 non-null  int64         \n",
      " 11  Dealer_No      23906 non-null  object        \n",
      " 12  Body Style     23906 non-null  object        \n",
      " 13  Dealer_Region  23906 non-null  object        \n",
      "dtypes: datetime64[ns](1), int64(2), object(11)\n",
      "memory usage: 2.6+ MB\n"
     ]
    }
   ],
   "source": [
    "data_car.info()"
   ]
  },
  {
   "cell_type": "code",
   "execution_count": 36,
   "metadata": {},
   "outputs": [
    {
     "name": "stdout",
     "output_type": "stream",
     "text": [
      "T-statistic: -1.4013\n",
      "P-value: 0.1611\n",
      "Gagal ditolak Hipotesis awal(0): Tidak terdapat perbedaan signifikan antara Body Style dan Price ($).\n"
     ]
    }
   ],
   "source": [
    "#Memisahkan 2 Company untuk harga dimasing-masing company\n",
    "company_1 = data_car[data_car['Body Style'] == 'SUV']['Price ($)']\n",
    "company_2 = data_car[data_car['Body Style'] == 'Hatchback']['Price ($)']\n",
    "\n",
    "#Uji hipotesis menggunakan uji T\n",
    "t_statistic, p_value = stats.ttest_ind(company_1, company_2)\n",
    "\n",
    "#Membandingkan p-value dengan tingkat signifikansi\n",
    "alpha = 0.05\n",
    "print(f\"T-statistic: {t_statistic:.4f}\")\n",
    "print(f\"P-value: {p_value:.4f}\")\n",
    "if p_value < alpha:\n",
    "    print(\"Tolak Hipotesis awal(0): Terdapat perbedaan signifikan antara Body Style dan Price ($).\")\n",
    "else:\n",
    "    print(\"Gagal ditolak Hipotesis awal(0): Tidak terdapat perbedaan signifikan antara Body Style dan Price ($).\")"
   ]
  },
  {
   "cell_type": "markdown",
   "metadata": {},
   "source": [
    "Insight: Dari uji test menggunakan uji T, didapatkan bahwasan nya tidak terdapat perbedaan signifikan disegi harga 2 Body Style dari Company yang berbeda dan diregion yang berbeda."
   ]
  },
  {
   "cell_type": "markdown",
   "metadata": {},
   "source": [
    "# Pengambilan Kesimpulan"
   ]
  },
  {
   "cell_type": "code",
   "execution_count": 37,
   "metadata": {},
   "outputs": [
    {
     "data": {
      "text/plain": [
       "'\\n=================================================\\nMilestone 1\\n\\nNama  : Muhammad Athaariq Ardi\\nBatch : HCK-013\\n\\nProgram ini dibuat untuk pengambilan kesimpulan\\n\\n=================================================\\n'"
      ]
     },
     "execution_count": 37,
     "metadata": {},
     "output_type": "execute_result"
    }
   ],
   "source": [
    "'''\n",
    "=================================================\n",
    "Milestone 1\n",
    "\n",
    "Nama  : Muhammad Athaariq Ardi\n",
    "Batch : HCK-013\n",
    "\n",
    "Program ini dibuat untuk pengambilan kesimpulan\n",
    "\n",
    "=================================================\n",
    "'''"
   ]
  },
  {
   "cell_type": "markdown",
   "metadata": {},
   "source": [
    "Kesimpulan dari Milstone pada analisis dan perhitungan yang didapat adalah bahwasannya Mobil yang paling banyak dijual di 7 region ini adalah mobil city car, dikarnakan 7 region ini adalah kota besar yang memiliki dataran tinggi disekitar nya, yang berpengaruh pada penggunaan transmisi dari masing-masing mobil"
   ]
  }
 ],
 "metadata": {
  "kernelspec": {
   "display_name": "base",
   "language": "python",
   "name": "python3"
  },
  "language_info": {
   "codemirror_mode": {
    "name": "ipython",
    "version": 3
   },
   "file_extension": ".py",
   "mimetype": "text/x-python",
   "name": "python",
   "nbconvert_exporter": "python",
   "pygments_lexer": "ipython3",
   "version": "3.10.9"
  }
 },
 "nbformat": 4,
 "nbformat_minor": 2
}
